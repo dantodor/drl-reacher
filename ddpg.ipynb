{
 "cells": [
  {
   "cell_type": "markdown",
   "metadata": {},
   "source": [
    "# Project 2: Continuous Control\n",
    "\n",
    "In this notebook, I will train a DDPG model using Unity ML environment for the second project of the Deep Reinforcement Learning Nanodegree (https://www.udacity.com/course/deep-reinforcement-learning-nanodegree--nd893)\n"
   ]
  },
  {
   "cell_type": "markdown",
   "metadata": {},
   "source": [
    "## 1. Imports\n"
   ]
  },
  {
   "cell_type": "code",
   "execution_count": 16,
   "metadata": {},
   "outputs": [],
   "source": [
    "import os\n",
    "import sys\n",
    "import platform\n",
    "from collections import namedtuple,deque\n",
    "import random\n",
    "import copy\n",
    "import pickle\n",
    "from unityagents import UnityEnvironment\n",
    "import pandas as pd\n",
    "import numpy as np\n",
    "import numpy.random as nr\n",
    "import matplotlib.pyplot as plt\n",
    "import torch\n",
    "import torch.nn as nn\n",
    "import torch.nn.functional as F\n",
    "import torch.optim as optim"
   ]
  },
  {
   "cell_type": "markdown",
   "metadata": {},
   "source": [
    "## 2. Agent and deep nets parameters"
   ]
  },
  {
   "cell_type": "code",
   "execution_count": 2,
   "metadata": {},
   "outputs": [],
   "source": [
    "BUFFER_SIZE = 100000      # replay buffer size\n",
    "BATCH_SIZE = 128          # minibatch size\n",
    "GAMMA = 0.99              # discount factor\n",
    "TAU = 0.001               # for soft update of target parameters\n",
    "LR_ACTOR = 0.0001         # learning rate of the actor\n",
    "LR_CRITIC = 0.0001        # learning rate of the critic\n",
    "WEIGHT_DECAY = 0          # L2 weight decay\n",
    "UPDATE_EVERY = 10000\n",
    "#epsilon greedy params for exploration vs exploatation\n",
    "EPS_START=1.0\n",
    "EPS_END=0.05\n",
    "EPS_DECAY=3e-5\n",
    "\n",
    "device = torch.device(\"cuda:0\" if torch.cuda.is_available() else \"cpu\")"
   ]
  },
  {
   "cell_type": "markdown",
   "metadata": {},
   "source": [
    "## 3. Definitions for actor and critic neural nets\n",
    "\n",
    "Helper function"
   ]
  },
  {
   "cell_type": "code",
   "execution_count": 3,
   "metadata": {},
   "outputs": [],
   "source": [
    "def hidden_init(layer):\n",
    "    # source: The other layers were initialized from uniform distributions\n",
    "    # [− 1/sqrt(f) , 1/sqrt(f) ] where f is the fan-in of the layer\n",
    "    fan_in = layer.weight.data.size()[0]\n",
    "    lim = 1. / np.sqrt(fan_in)\n",
    "    return (-lim, lim)"
   ]
  },
  {
   "cell_type": "markdown",
   "metadata": {},
   "source": [
    "Define the Actor and Critic classes"
   ]
  },
  {
   "cell_type": "code",
   "execution_count": 4,
   "metadata": {},
   "outputs": [],
   "source": [
    "class Actor(nn.Module):\n",
    "\n",
    "    def __init__(self, state_size, action_size, seed, fc1_units=256,\n",
    "                 fc2_units=128):\n",
    "        super(Actor, self).__init__()\n",
    "        self.seed = torch.manual_seed(seed)\n",
    "        self.fc1 = nn.Linear(state_size, fc1_units)\n",
    "        self.fc2 = nn.Linear(fc1_units, fc2_units)\n",
    "        self.fc3 = nn.Linear(fc2_units, action_size)\n",
    "        self.reset_parameters()\n",
    "\n",
    "    def reset_parameters(self):\n",
    "        self.fc1.weight.data.uniform_(*hidden_init(self.fc1))\n",
    "        self.fc2.weight.data.uniform_(*hidden_init(self.fc2))\n",
    "        self.fc3.weight.data.uniform_(-3e-3, 3e-3)\n",
    "\n",
    "    def forward(self, state):\n",
    "        x = F.elu(self.fc1(state)) # somehow elu works better than relu\n",
    "        x = F.elu(self.fc2(x))\n",
    "        return torch.tanh(self.fc3(x))"
   ]
  },
  {
   "cell_type": "code",
   "execution_count": 5,
   "metadata": {},
   "outputs": [],
   "source": [
    "class Critic(nn.Module):\n",
    "\n",
    "    def __init__(self, state_size, action_size, seed, fcs1_units=256,\n",
    "                 fc2_units=128):\n",
    "        super(Critic, self).__init__()\n",
    "        self.seed = torch.manual_seed(seed)\n",
    "        self.fcs1 = nn.Linear(state_size, fcs1_units)\n",
    "        self.fc2 = nn.Linear(fcs1_units+action_size, fc2_units)\n",
    "        self.fc3 = nn.Linear(fc2_units, 1)\n",
    "        self.reset_parameters()\n",
    "\n",
    "    def reset_parameters(self):\n",
    "        self.fcs1.weight.data.uniform_(*hidden_init(self.fcs1))\n",
    "        self.fc2.weight.data.uniform_(*hidden_init(self.fc2))\n",
    "        self.fc3.weight.data.uniform_(-3e-3, 3e-3)\n",
    "\n",
    "    def forward(self, state, action):\n",
    "        xs = F.elu(self.fcs1(state))\n",
    "        x = torch.cat((xs, action.float()), dim=1)\n",
    "        x = F.elu(self.fc2(x))\n",
    "        return self.fc3(x)\n"
   ]
  },
  {
   "cell_type": "markdown",
   "metadata": {},
   "source": [
    "Helper class - the replay buffer ( storing experiences for training )"
   ]
  },
  {
   "cell_type": "code",
   "execution_count": 6,
   "metadata": {},
   "outputs": [],
   "source": [
    "class ReplayBuffer(object):\n",
    "    '''\n",
    "    Fixed-size buffer to store experience tuples\n",
    "    '''\n",
    "\n",
    "    def __init__(self, action_size, buffer_size, batch_size, seed):\n",
    "        self.action_size = action_size\n",
    "        self.memory = deque(maxlen=buffer_size)\n",
    "        self.batch_size = batch_size\n",
    "        self.experience = namedtuple(\"Experience\",\n",
    "                                     field_names=[\"state\", \"action\", \"reward\",\n",
    "                                                  \"next_state\", \"done\"])\n",
    "        self.seed = random.seed(seed)\n",
    "\n",
    "    def add(self, state, action, reward, next_state, done):\n",
    "        e = self.experience(state, action, reward, next_state, done)\n",
    "        self.memory.append(e)\n",
    "\n",
    "    def sample(self):\n",
    "        experiences = random.sample(self.memory, k=self.batch_size)\n",
    "        states = torch.from_numpy(np.vstack([e.state for e in experiences\n",
    "                                  if e is not None])).float().to(device)\n",
    "        actions = torch.from_numpy(np.vstack([e.action for e in experiences\n",
    "                                   if e is not None])).long().to(device)\n",
    "        rewards = torch.from_numpy(np.vstack([e.reward for e in experiences\n",
    "                                   if e is not None])).float().to(device)\n",
    "        next_states = torch.from_numpy(np.vstack([e.next_state\n",
    "                                                  for e in experiences\n",
    "                                                  if e is not None])).float().to(device)\n",
    "        dones = torch.from_numpy(np.vstack([e.done for e in experiences\n",
    "                                            if e is not None]).astype(np.uint8)).float().to(device)\n",
    "\n",
    "        return (states, actions, rewards, next_states, dones)\n",
    "\n",
    "    def __len__(self):\n",
    "        return len(self.memory)\n"
   ]
  },
  {
   "cell_type": "markdown",
   "metadata": {},
   "source": [
    "Helper class - speciffic noise"
   ]
  },
  {
   "cell_type": "code",
   "execution_count": 7,
   "metadata": {},
   "outputs": [],
   "source": [
    "class OUNoise:\n",
    "    \"\"\"Ornstein-Uhlenbeck process.\"\"\"\n",
    "\n",
    "    def __init__(self, size, seed, mu=0., theta=0.15, sigma=0.2):\n",
    "        \"\"\"Initialize parameters and noise process.\"\"\"\n",
    "        self.mu = mu * np.ones(size)\n",
    "        self.theta = theta\n",
    "        self.sigma = sigma\n",
    "        self.seed = random.seed(seed)\n",
    "        self.size = size\n",
    "        self.reset()\n",
    "\n",
    "    def reset(self):\n",
    "        \"\"\"Reset the internal state (= noise) to mean (mu).\"\"\"\n",
    "        self.state = copy.copy(self.mu)\n",
    "\n",
    "    def sample(self):\n",
    "        \"\"\"Update internal state and return it as a noise sample.\"\"\"\n",
    "        x = self.state\n",
    "        dx = self.theta * (self.mu - x) + self.sigma * np.random.standard_normal(self.size)\n",
    "        self.state = x + dx\n",
    "        return self.state\n"
   ]
  },
  {
   "cell_type": "markdown",
   "metadata": {},
   "source": [
    "The ddpg agent"
   ]
  },
  {
   "cell_type": "code",
   "execution_count": 8,
   "metadata": {},
   "outputs": [],
   "source": [
    "class Agent():\n",
    "    \"\"\"Interacts with and learns from the environment.\"\"\"\n",
    "    \n",
    "    def __init__(self, state_size, action_size, num_agents, random_seed):\n",
    "        \"\"\"Initialize an Agent object.\n",
    "        \n",
    "        Params\n",
    "        ======\n",
    "            state_size (int): dimension of each state\n",
    "            action_size (int): dimension of each action\n",
    "            random_seed (int): random seed\n",
    "        \"\"\"\n",
    "        self.state_size = state_size\n",
    "        self.action_size = action_size\n",
    "        self.num_agents = num_agents\n",
    "        self.seed = random.seed(random_seed)\n",
    "\n",
    "        # Actor Network (w/ Target Network)\n",
    "        self.actor_local = Actor(state_size, action_size, random_seed).to(device)\n",
    "        self.actor_target = Actor(state_size, action_size, random_seed).to(device)\n",
    "        self.actor_optimizer = optim.Adam(self.actor_local.parameters(), lr=LR_ACTOR, weight_decay=WEIGHT_DECAY)\n",
    "\n",
    "        # Critic Network (w/ Target Network)\n",
    "        self.critic_local = Critic(state_size, action_size, random_seed).to(device)\n",
    "        self.critic_target = Critic(state_size, action_size, random_seed).to(device)\n",
    "        self.critic_optimizer = optim.Adam(self.critic_local.parameters(), lr=LR_CRITIC, weight_decay=WEIGHT_DECAY)\n",
    "\n",
    "        # Noise process\n",
    "        #self.noise = OUNoise(action_size, random_seed) #single agent only\n",
    "        self.noise = OUNoise((num_agents, action_size), random_seed) #both singe and multiple agent\n",
    "        self.eps = EPS_START\n",
    "\n",
    "        # Replay memory\n",
    "        self.memory = ReplayBuffer(action_size, BUFFER_SIZE, BATCH_SIZE, random_seed)\n",
    "    \n",
    "        # Make sure target is initialized with the same weight as the source (found on slack to make big difference)\n",
    "        self.hard_update(self.actor_target, self.actor_local)\n",
    "        self.hard_update(self.critic_target, self.critic_local)\n",
    "\n",
    "\n",
    "    def step(self, states, actions, rewards, next_states, dones):\n",
    "        \"\"\"Save experience in replay memory, and use random sample from buffer to learn.\"\"\"\n",
    "        # Save experience / reward\n",
    "        for a in range(self.num_agents):\n",
    "            self.memory.add(states[a], actions[a], rewards[a], next_states[a], dones[a])\n",
    "\n",
    "        # Learn, if enough samples are available in memory\n",
    "        if len(self.memory) > BATCH_SIZE:\n",
    "            experiences = self.memory.sample()\n",
    "            self.learn(experiences, GAMMA)\n",
    "\n",
    "    def act(self, states, add_noise=True):\n",
    "        \"\"\"Returns actions for given state as per current policy.\"\"\"\n",
    "        states = torch.from_numpy(states).float().to(device)\n",
    "        self.actor_local.eval()\n",
    "        with torch.no_grad():\n",
    "            actions = self.actor_local(states).cpu().data.numpy()\n",
    "        self.actor_local.train()\n",
    "        \n",
    "        #add noise according to epsilon probability\n",
    "        if add_noise and (np.random.random() < self.eps):\n",
    "            actions += self.noise.sample()\n",
    "            #update the exploration parameter\n",
    "            self.eps -= EPS_DECAY\n",
    "            if self.eps < EPS_END:\n",
    "                self.eps = EPS_END\n",
    "            \n",
    "        return np.clip(actions, -1, 1)\n",
    "\n",
    "    def reset(self):\n",
    "        self.noise.reset()\n",
    "\n",
    "    def learn(self, experiences, gamma):\n",
    "        \"\"\"Update policy and value parameters using given batch of experience tuples.\n",
    "        Q_targets = r + γ * critic_target(next_state, actor_target(next_state))\n",
    "        where:\n",
    "            actor_target(state) -> action\n",
    "            critic_target(state, action) -> Q-value\n",
    "\n",
    "        Params\n",
    "        ======\n",
    "            experiences (Tuple[torch.Tensor]): tuple of (s, a, r, s', done) tuples \n",
    "            gamma (float): discount factor\n",
    "        \"\"\"\n",
    "        states, actions, rewards, next_states, dones = experiences\n",
    "\n",
    "        # ---------------------------- update critic ---------------------------- #\n",
    "        # Get predicted next-state actions and Q values from target models\n",
    "        actions_next = self.actor_target(next_states)\n",
    "        Q_targets_next = self.critic_target(next_states, actions_next)\n",
    "        # Compute Q targets for current states (y_i)\n",
    "        Q_targets = rewards + (gamma * Q_targets_next * (1 - dones))\n",
    "        # Compute critic loss\n",
    "        Q_expected = self.critic_local(states, actions)\n",
    "        critic_loss = F.mse_loss(Q_expected, Q_targets)\n",
    "        # Minimize the loss\n",
    "        self.critic_optimizer.zero_grad()\n",
    "        critic_loss.backward()\n",
    "        #clip the gradient for the critic network - hint in Udacity project description\n",
    "        torch.nn.utils.clip_grad_norm(self.critic_local.parameters(), 1.0) \n",
    "        self.critic_optimizer.step()\n",
    "\n",
    "        # ---------------------------- update actor ---------------------------- #\n",
    "        # Compute actor loss\n",
    "        actions_pred = self.actor_local(states)\n",
    "        actor_loss = -self.critic_local(states, actions_pred).mean()\n",
    "        # Minimize the loss\n",
    "        self.actor_optimizer.zero_grad()\n",
    "        actor_loss.backward()\n",
    "        self.actor_optimizer.step()\n",
    "\n",
    "        # ----------------------- update target networks ----------------------- #\n",
    "        self.soft_update(self.critic_local, self.critic_target, TAU)\n",
    "        self.soft_update(self.actor_local, self.actor_target, TAU)                     \n",
    "\n",
    "    def soft_update(self, local_model, target_model, tau):\n",
    "        \"\"\"Soft update model parameters.\n",
    "        θ_target = τ*θ_local + (1 - τ)*θ_target\n",
    "\n",
    "        Params\n",
    "        ======\n",
    "            local_model: PyTorch model (weights will be copied from)\n",
    "            target_model: PyTorch model (weights will be copied to)\n",
    "            tau (float): interpolation parameter \n",
    "        \"\"\"\n",
    "        for target_param, local_param in zip(target_model.parameters(), local_model.parameters()):\n",
    "            target_param.data.copy_(tau*local_param.data + (1.0-tau)*target_param.data)\n",
    "\n",
    "\n",
    "    ## from slack - improves learning a lot\n",
    "    def hard_update(self, target, source):\n",
    "        for target_param, source_param in zip(target.parameters(), source.parameters()):\n",
    "            target_param.data.copy_(source_param.data)\n",
    "\n"
   ]
  },
  {
   "cell_type": "markdown",
   "metadata": {},
   "source": [
    "## 4. Exploring the Environment"
   ]
  },
  {
   "cell_type": "code",
   "execution_count": 9,
   "metadata": {},
   "outputs": [
    {
     "name": "stderr",
     "output_type": "stream",
     "text": [
      "INFO:unityagents:\n",
      "'Academy' started successfully!\n",
      "Unity Academy name: Academy\n",
      "        Number of Brains: 1\n",
      "        Number of External Brains : 1\n",
      "        Lesson number : 0\n",
      "        Reset Parameters :\n",
      "\t\tgoal_speed -> 1.0\n",
      "\t\tgoal_size -> 5.0\n",
      "Unity brain name: ReacherBrain\n",
      "        Number of Visual Observations (per agent): 0\n",
      "        Vector Observation space type: continuous\n",
      "        Vector Observation space size (per agent): 33\n",
      "        Number of stacked Vector Observation: 1\n",
      "        Vector Action space type: continuous\n",
      "        Vector Action space size (per agent): 4\n",
      "        Vector Action descriptions: , , , \n"
     ]
    }
   ],
   "source": [
    "env = UnityEnvironment(file_name='./Reacher.app')"
   ]
  },
  {
   "cell_type": "markdown",
   "metadata": {},
   "source": [
    "In this environment, a double-jointed arm can move to target locations. A reward of `+0.1` is provided for each step that the agent's hand is in the goal location. Thus, the goal of your agent is to maintain its position at the target location for as many time steps as possible.\n",
    "\n",
    "The observation space consists of `33` variables corresponding to position, rotation, velocity, and angular velocities of the arm.  Each action is a vector with four numbers, corresponding to torque applicable to two joints.  Every entry in the action vector must be a number between `-1` and `1`.\n",
    "\n",
    "Let's check some information about the environment below."
   ]
  },
  {
   "cell_type": "code",
   "execution_count": 10,
   "metadata": {},
   "outputs": [
    {
     "name": "stdout",
     "output_type": "stream",
     "text": [
      "Number of agents: 20 20\n",
      "Size of each action: 4\n",
      "There are 20 agents. Each observes a state with length: 33\n",
      "The state for the first agent looks like: [ 0.00000000e+00 -4.00000000e+00  0.00000000e+00  1.00000000e+00\n",
      " -0.00000000e+00 -0.00000000e+00 -4.37113883e-08  0.00000000e+00\n",
      "  0.00000000e+00  0.00000000e+00  0.00000000e+00  0.00000000e+00\n",
      "  0.00000000e+00  0.00000000e+00 -1.00000000e+01  0.00000000e+00\n",
      "  1.00000000e+00 -0.00000000e+00 -0.00000000e+00 -4.37113883e-08\n",
      "  0.00000000e+00  0.00000000e+00  0.00000000e+00  0.00000000e+00\n",
      "  0.00000000e+00  0.00000000e+00  5.75471878e+00 -1.00000000e+00\n",
      "  5.55726624e+00  0.00000000e+00  1.00000000e+00  0.00000000e+00\n",
      " -1.68164849e-01]\n"
     ]
    }
   ],
   "source": [
    "brain_name = env.brain_names[0]\n",
    "brain = env.brains[brain_name]\n",
    "\n",
    "# reset the environment\n",
    "env_info = env.reset(train_mode=True)[brain_name]\n",
    "\n",
    "# number of agents\n",
    "num_agents = len(env_info.agents)\n",
    "print('Number of agents:', num_agents, env_info.vector_observations.shape[0])\n",
    "\n",
    "# size of each action\n",
    "action_size = brain.vector_action_space_size\n",
    "print('Size of each action:', action_size)\n",
    "\n",
    "# examine the state space \n",
    "states = env_info.vector_observations\n",
    "state_size = states.shape[1]\n",
    "print('There are {} agents. Each observes a state with length: {}'.format(states.shape[0], state_size))\n",
    "print('The state for the first agent looks like:', states[0])"
   ]
  },
  {
   "cell_type": "markdown",
   "metadata": {},
   "source": [
    "## 5. Training function"
   ]
  },
  {
   "cell_type": "markdown",
   "metadata": {},
   "source": [
    "Now, we are going to train the agent for 1000 episodes or until it reaches an average score of 30 over the last 100 episodes and over the 20 agents. "
   ]
  },
  {
   "cell_type": "code",
   "execution_count": 11,
   "metadata": {},
   "outputs": [],
   "source": [
    "def train_agent(episodes=2000):\n",
    "    scores_deque = deque(maxlen=100)\n",
    "    scores_list = []\n",
    "    prev_scores = 0\n",
    "    for episode in range(episodes):\n",
    "        env_info = env.reset(train_mode=True)[brain_name]     \n",
    "        states = env_info.vector_observations                 \n",
    "        agent.reset() #reset the agent OU Noise\n",
    "        scores = np.zeros(num_agents)                          \n",
    "        while True:                                            # training loop\n",
    "            actions = agent.act(states)\n",
    "            env_info = env.step(actions)[brain_name]           # send all actions to the environment\n",
    "            next_states = env_info.vector_observations         # get next state (for each agent)\n",
    "            rewards = env_info.rewards                         # get rewards (for each agent)\n",
    "            dones = env_info.local_done                        # see if episode finished\n",
    "            scores += rewards                                  # update the score (for each agent)\n",
    "            \n",
    "            agent.step(states, actions, rewards, next_states, dones) #train the agent\n",
    "\n",
    "            # In the ramp up phase we do some extra learning per time step \n",
    "            # (since generating so much experience at each step)\n",
    "            # Once it reaches an acceptable value of scoring\n",
    "            # we train more lightly\n",
    "            if prev_scores < 33:\n",
    "                if len(agent.memory) > BATCH_SIZE:\n",
    "                    for i in range(3):\n",
    "                        experiences = agent.memory.sample()\n",
    "                        agent.learn(experiences, GAMMA)\n",
    "            else:\n",
    "                if episode%UPDATE_EVERY == 0 and len(agent.memory)>BATCH_SIZE:\n",
    "                    experiences = agent.memory.sample()\n",
    "                    agent.learn(experiences,GAMMA)\n",
    "            \n",
    "            states = next_states                               \n",
    "            if np.any(dones):                                  # exit loop if episode finished\n",
    "                break\n",
    "            \n",
    "        episode_mean = np.mean(scores)\n",
    "        scores_deque.append(episode_mean)\n",
    "        scores_list.append(np.mean(episode_mean))\n",
    "        prev_scores = episode_mean\n",
    "        print('Episode {}\\tAverage Score: {:.2f}\\tScore: {:.2f}'.format(episode, np.mean(scores_deque), episode_mean))\n",
    "        \n",
    "        #stop condition, average greater than 30 over 100 episodes\n",
    "        if np.mean(scores_deque) > 30 and len(scores_deque) >= 100:\n",
    "            torch.save(agent.actor_local.state_dict(), 'checkpoint_actor.pth')\n",
    "            torch.save(agent.critic_local.state_dict(), 'checkpoint_critic.pth')\n",
    "            print('Solved')\n",
    "            break\n",
    "            \n",
    "    return scores_list"
   ]
  },
  {
   "cell_type": "markdown",
   "metadata": {},
   "source": [
    "## 6. Run training\n",
    "We train the agent for 1000 episodes or until it reaches an average score of 30 over the last 100 episodes and over the 20 agents, as requested in project requirements"
   ]
  },
  {
   "cell_type": "code",
   "execution_count": 12,
   "metadata": {},
   "outputs": [
    {
     "name": "stderr",
     "output_type": "stream",
     "text": [
      "/Users/nutz/anaconda3/envs/drlnd/lib/python3.6/site-packages/ipykernel_launcher.py:102: UserWarning: torch.nn.utils.clip_grad_norm is now deprecated in favor of torch.nn.utils.clip_grad_norm_.\n"
     ]
    },
    {
     "name": "stdout",
     "output_type": "stream",
     "text": [
      "Episode 1\tAverage Score: 0.63\tScore: 0.63\n",
      "Episode 2\tAverage Score: 0.69\tScore: 0.74\n",
      "Episode 3\tAverage Score: 1.01\tScore: 1.66\n",
      "Episode 4\tAverage Score: 1.14\tScore: 1.53\n",
      "Episode 5\tAverage Score: 1.43\tScore: 2.56\n",
      "Episode 6\tAverage Score: 1.55\tScore: 2.15\n",
      "Episode 7\tAverage Score: 1.78\tScore: 3.17\n",
      "Episode 8\tAverage Score: 1.99\tScore: 3.47\n",
      "Episode 9\tAverage Score: 2.15\tScore: 3.38\n",
      "Episode 10\tAverage Score: 2.55\tScore: 6.22\n",
      "Episode 11\tAverage Score: 2.80\tScore: 5.25\n",
      "Episode 12\tAverage Score: 3.05\tScore: 5.82\n",
      "Episode 13\tAverage Score: 3.40\tScore: 7.55\n",
      "Episode 14\tAverage Score: 3.78\tScore: 8.82\n",
      "Episode 15\tAverage Score: 4.17\tScore: 9.64\n",
      "Episode 16\tAverage Score: 4.64\tScore: 11.64\n",
      "Episode 17\tAverage Score: 5.26\tScore: 15.23\n",
      "Episode 18\tAverage Score: 6.17\tScore: 21.64\n",
      "Episode 19\tAverage Score: 7.52\tScore: 31.67\n",
      "Episode 20\tAverage Score: 8.62\tScore: 29.65\n",
      "Episode 21\tAverage Score: 9.66\tScore: 30.35\n",
      "Episode 22\tAverage Score: 10.68\tScore: 32.19\n",
      "Episode 23\tAverage Score: 11.85\tScore: 37.65\n",
      "Episode 24\tAverage Score: 12.46\tScore: 26.32\n",
      "Episode 25\tAverage Score: 13.37\tScore: 35.41\n",
      "Episode 26\tAverage Score: 14.33\tScore: 38.30\n",
      "Episode 27\tAverage Score: 15.22\tScore: 38.37\n",
      "Episode 28\tAverage Score: 16.04\tScore: 38.03\n",
      "Episode 29\tAverage Score: 16.81\tScore: 38.55\n",
      "Episode 30\tAverage Score: 17.49\tScore: 37.19\n",
      "Episode 31\tAverage Score: 18.14\tScore: 37.51\n",
      "Episode 32\tAverage Score: 18.74\tScore: 37.50\n",
      "Episode 33\tAverage Score: 19.33\tScore: 38.09\n",
      "Episode 34\tAverage Score: 19.89\tScore: 38.31\n",
      "Episode 35\tAverage Score: 20.40\tScore: 37.75\n",
      "Episode 36\tAverage Score: 20.89\tScore: 37.99\n",
      "Episode 37\tAverage Score: 21.37\tScore: 38.83\n",
      "Episode 38\tAverage Score: 21.83\tScore: 38.68\n",
      "Episode 39\tAverage Score: 22.25\tScore: 38.35\n",
      "Episode 40\tAverage Score: 22.63\tScore: 37.49\n",
      "Episode 41\tAverage Score: 22.99\tScore: 37.42\n",
      "Episode 42\tAverage Score: 23.35\tScore: 37.97\n",
      "Episode 43\tAverage Score: 23.71\tScore: 38.64\n",
      "Episode 44\tAverage Score: 24.02\tScore: 37.41\n",
      "Episode 45\tAverage Score: 24.32\tScore: 37.53\n",
      "Episode 46\tAverage Score: 24.64\tScore: 38.94\n",
      "Episode 47\tAverage Score: 24.93\tScore: 38.53\n",
      "Episode 48\tAverage Score: 25.21\tScore: 38.51\n",
      "Episode 49\tAverage Score: 25.48\tScore: 38.28\n",
      "Episode 50\tAverage Score: 25.73\tScore: 38.19\n",
      "Episode 51\tAverage Score: 26.00\tScore: 39.04\n",
      "Episode 52\tAverage Score: 26.24\tScore: 38.76\n",
      "Episode 53\tAverage Score: 26.47\tScore: 38.38\n",
      "Episode 54\tAverage Score: 26.69\tScore: 38.22\n",
      "Episode 55\tAverage Score: 26.91\tScore: 38.65\n",
      "Episode 56\tAverage Score: 27.12\tScore: 38.82\n",
      "Episode 57\tAverage Score: 27.32\tScore: 38.57\n",
      "Episode 58\tAverage Score: 27.51\tScore: 38.63\n",
      "Episode 59\tAverage Score: 27.71\tScore: 39.00\n",
      "Episode 60\tAverage Score: 27.89\tScore: 38.40\n",
      "Episode 61\tAverage Score: 28.07\tScore: 39.03\n",
      "Episode 62\tAverage Score: 28.24\tScore: 38.53\n",
      "Episode 63\tAverage Score: 28.41\tScore: 39.05\n",
      "Episode 64\tAverage Score: 28.56\tScore: 38.02\n",
      "Episode 65\tAverage Score: 28.71\tScore: 38.62\n",
      "Episode 66\tAverage Score: 28.87\tScore: 38.68\n",
      "Episode 67\tAverage Score: 29.01\tScore: 38.71\n",
      "Episode 68\tAverage Score: 29.15\tScore: 38.51\n",
      "Episode 69\tAverage Score: 29.29\tScore: 38.83\n",
      "Episode 70\tAverage Score: 29.42\tScore: 38.54\n",
      "Episode 71\tAverage Score: 29.56\tScore: 39.11\n",
      "Episode 72\tAverage Score: 29.69\tScore: 39.18\n",
      "Episode 73\tAverage Score: 29.82\tScore: 38.54\n",
      "Episode 74\tAverage Score: 29.93\tScore: 38.31\n",
      "Episode 75\tAverage Score: 30.04\tScore: 38.47\n",
      "Episode 76\tAverage Score: 30.16\tScore: 38.63\n",
      "Episode 77\tAverage Score: 30.26\tScore: 38.40\n",
      "Episode 78\tAverage Score: 30.37\tScore: 38.68\n",
      "Episode 79\tAverage Score: 30.48\tScore: 38.62\n",
      "Episode 80\tAverage Score: 30.57\tScore: 37.90\n",
      "Episode 81\tAverage Score: 30.67\tScore: 38.34\n",
      "Episode 82\tAverage Score: 30.76\tScore: 38.41\n",
      "Episode 83\tAverage Score: 30.85\tScore: 38.29\n",
      "Episode 84\tAverage Score: 30.94\tScore: 37.99\n",
      "Episode 85\tAverage Score: 31.03\tScore: 38.78\n",
      "Episode 86\tAverage Score: 31.12\tScore: 38.66\n",
      "Episode 87\tAverage Score: 31.20\tScore: 38.65\n",
      "Episode 88\tAverage Score: 31.29\tScore: 38.96\n",
      "Episode 89\tAverage Score: 31.37\tScore: 38.42\n",
      "Episode 90\tAverage Score: 31.45\tScore: 38.24\n",
      "Episode 91\tAverage Score: 31.53\tScore: 38.90\n",
      "Episode 92\tAverage Score: 31.61\tScore: 38.71\n",
      "Episode 93\tAverage Score: 31.68\tScore: 38.23\n",
      "Episode 94\tAverage Score: 31.76\tScore: 39.01\n",
      "Episode 95\tAverage Score: 31.83\tScore: 38.86\n",
      "Episode 96\tAverage Score: 31.91\tScore: 38.86\n",
      "Episode 97\tAverage Score: 31.97\tScore: 38.30\n",
      "Episode 98\tAverage Score: 32.04\tScore: 38.85\n",
      "Episode 99\tAverage Score: 32.11\tScore: 38.58\n",
      "Episode 100\tAverage Score: 32.17\tScore: 38.47\n",
      "Solved\n"
     ]
    }
   ],
   "source": [
    "agent = Agent(state_size=env_info.vector_observations.shape[1], action_size=brain.vector_action_space_size, \n",
    "              num_agents=env_info.vector_observations.shape[0],  random_seed=0)\n",
    "\n",
    "\n",
    "\n",
    "scores = train_agent()\n",
    "\n"
   ]
  },
  {
   "cell_type": "markdown",
   "metadata": {},
   "source": [
    "## 7. Results "
   ]
  },
  {
   "cell_type": "code",
   "execution_count": 18,
   "metadata": {},
   "outputs": [
    {
     "data": {
      "image/png": "[encoded data removed]",
      "text/plain": [
       "<Figure size 432x288 with 1 Axes>"
      ]
     },
     "metadata": {
      "needs_background": "light"
     },
     "output_type": "display_data"
    },
    {
     "data": {
      "text/plain": [
       "<Figure size 432x288 with 0 Axes>"
      ]
     },
     "metadata": {},
     "output_type": "display_data"
    }
   ],
   "source": [
    "fig = plt.figure()\n",
    "ax = fig.add_subplot(111)\n",
    "plt.plot(np.arange(1, len(scores)+1), scores)\n",
    "plt.ylabel('Score')\n",
    "plt.xlabel('Episode #')\n",
    "plt.show()\n",
    "plt.savefig('learning-curve.jpg' , format='jpg')"
   ]
  },
  {
   "cell_type": "code",
   "execution_count": 19,
   "metadata": {},
   "outputs": [],
   "source": [
    "env.close()"
   ]
  },
  {
   "cell_type": "markdown",
   "metadata": {},
   "source": [
    "## 8. Conclusion"
   ]
  },
  {
   "cell_type": "markdown",
   "metadata": {},
   "source": [
    "The DDPG agent is reaching the mean value of 30 per episode in ~ 20 episodes, and the environment is solved in the first 100 episodes, according to requirements"
   ]
  }
 ],
 "metadata": {
  "kernelspec": {
   "display_name": "drlnd",
   "language": "python",
   "name": "drlnd"
  },
  "language_info": {
   "codemirror_mode": {
    "name": "ipython",
    "version": 3
   },
   "file_extension": ".py",
   "mimetype": "text/x-python",
   "name": "python",
   "nbconvert_exporter": "python",
   "pygments_lexer": "ipython3",
   "version": "3.6.7"
  }
 },
 "nbformat": 4,
 "nbformat_minor": 2
}
